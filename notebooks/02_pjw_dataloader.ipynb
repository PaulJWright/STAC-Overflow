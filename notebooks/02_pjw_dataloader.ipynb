{
 "cells": [
  {
   "cell_type": "markdown",
   "id": "f07093b2",
   "metadata": {},
   "source": [
    "## Testing the dataloader"
   ]
  },
  {
   "cell_type": "code",
   "execution_count": null,
   "id": "6694f254",
   "metadata": {},
   "outputs": [],
   "source": [
    "import albumentations\n",
    "\n",
    "import pandas as pd\n",
    "import matplotlib.pyplot as plt\n",
    "from src.data.dataset import FloodDataset"
   ]
  },
  {
   "cell_type": "markdown",
   "id": "1dd43e60",
   "metadata": {},
   "source": [
    "#### Define some transformations"
   ]
  },
  {
   "cell_type": "code",
   "execution_count": null,
   "id": "02147eb8",
   "metadata": {},
   "outputs": [],
   "source": [
    "training_transformations = albumentations.Compose(\n",
    "    [\n",
    "        # albumentations.RandomCrop(256, 256),\n",
    "        # albumentations.RandomRotate90(),\n",
    "        albumentations.HorizontalFlip(),\n",
    "        albumentations.VerticalFlip(),\n",
    "        albumentations.Rotate(),\n",
    "    ]\n",
    ")"
   ]
  },
  {
   "cell_type": "markdown",
   "id": "57fe1334",
   "metadata": {},
   "source": [
    "#### Load FloodDataset"
   ]
  },
  {
   "cell_type": "code",
   "execution_count": null,
   "id": "c7e6aa55",
   "metadata": {},
   "outputs": [],
   "source": [
    "dataset = FloodDataset(\n",
    "    root=\"~/Documents/drivendata/stac-overflow/data/processed/v1_12Sept/\",\n",
    "    split=\"train\",\n",
    "    data_augmentation=False,\n",
    "    split_name=\"~/Documents/drivendata/stac-overflow/data/processed/v1_12Sept/\",\n",
    "    transforms=training_transformations,\n",
    ")"
   ]
  },
  {
   "cell_type": "code",
   "execution_count": null,
   "id": "a83ea8fc",
   "metadata": {},
   "outputs": [],
   "source": [
    "# pick a random index\n",
    "import random\n",
    "idx = random.randrange(0, dataset.__len__())\n",
    "print(idx)"
   ]
  },
  {
   "cell_type": "code",
   "execution_count": null,
   "id": "adbf8408",
   "metadata": {
    "scrolled": true
   },
   "outputs": [],
   "source": [
    "# display keys\n",
    "dataset.__getitem__(idx).keys()"
   ]
  },
  {
   "cell_type": "code",
   "execution_count": null,
   "id": "e8976803",
   "metadata": {},
   "outputs": [],
   "source": [
    "# get the data:\n",
    "out = dataset.__getitem__(idx)"
   ]
  },
  {
   "cell_type": "markdown",
   "id": "b3667765",
   "metadata": {},
   "source": [
    "### Plotting"
   ]
  },
  {
   "cell_type": "code",
   "execution_count": null,
   "id": "cda67498",
   "metadata": {},
   "outputs": [],
   "source": [
    "plt.imshow(out['chip'][0])\n",
    "print(out['chip'][0].min(), out['chip'][0].max())"
   ]
  },
  {
   "cell_type": "code",
   "execution_count": null,
   "id": "85300e46",
   "metadata": {},
   "outputs": [],
   "source": [
    "plt.imshow(out['chip'][1])\n",
    "print(out['chip'][1].min(), out['chip'][1].max())"
   ]
  },
  {
   "cell_type": "code",
   "execution_count": null,
   "id": "2e4a74f0",
   "metadata": {},
   "outputs": [],
   "source": [
    "plt.imshow(out['label'])\n",
    "print(out['label'].min(), out['label'].max())"
   ]
  }
 ],
 "metadata": {
  "kernelspec": {
   "display_name": "Python 3 (ipykernel)",
   "language": "python",
   "name": "python3"
  },
  "language_info": {
   "codemirror_mode": {
    "name": "ipython",
    "version": 3
   },
   "file_extension": ".py",
   "mimetype": "text/x-python",
   "name": "python",
   "nbconvert_exporter": "python",
   "pygments_lexer": "ipython3",
   "version": "3.8.10"
  }
 },
 "nbformat": 4,
 "nbformat_minor": 5
}
