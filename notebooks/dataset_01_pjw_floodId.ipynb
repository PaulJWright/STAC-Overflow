{
 "cells": [
  {
   "cell_type": "code",
   "execution_count": null,
   "id": "d27b672c",
   "metadata": {},
   "outputs": [],
   "source": [
    "## Flood Training dataset, v1_12Sept"
   ]
  },
  {
   "cell_type": "code",
   "execution_count": null,
   "id": "9bf4d00f",
   "metadata": {},
   "outputs": [],
   "source": [
    "from pathlib import Path\n",
    "\n",
    "import matplotlib.pyplot as plt\n",
    "import numpy as np\n",
    "import pandas as pd\n",
    "\n",
    "import rasterio\n",
    "from pandas_path import path\n",
    "\n",
    "# This is where our downloaded images and metadata live locally\n",
    "DATA_PATH = Path('/home/paul/Documents/drivendata/stac-overflow/data/external/')"
   ]
  },
  {
   "cell_type": "code",
   "execution_count": null,
   "id": "a5780b62",
   "metadata": {},
   "outputs": [],
   "source": [
    "train_metadata = pd.read_csv(\n",
    "    DATA_PATH / \"flood-training-metadata.csv\", parse_dates=[\"scene_start\"]\n",
    ")"
   ]
  },
  {
   "cell_type": "code",
   "execution_count": null,
   "id": "02097de7",
   "metadata": {},
   "outputs": [],
   "source": [
    "train_metadata"
   ]
  },
  {
   "cell_type": "markdown",
   "id": "64215064",
   "metadata": {},
   "source": [
    "---"
   ]
  },
  {
   "cell_type": "code",
   "execution_count": null,
   "id": "569b6773",
   "metadata": {},
   "outputs": [],
   "source": [
    "train_metadata[\"feature_path\"] = (\n",
    "    str(DATA_PATH / \"train_features\")\n",
    "    / train_metadata.image_id.path.with_suffix(\".tif\").path\n",
    ")\n",
    "train_metadata[\"label_path\"] = (\n",
    "    str(DATA_PATH / \"train_labels\")\n",
    "    / train_metadata.chip_id.path.with_suffix(\".tif\").path\n",
    ")"
   ]
  },
  {
   "cell_type": "code",
   "execution_count": null,
   "id": "241ec554",
   "metadata": {},
   "outputs": [],
   "source": [
    "image_path = train_metadata.feature_path[63]"
   ]
  },
  {
   "cell_type": "code",
   "execution_count": null,
   "id": "bff7d3f1",
   "metadata": {},
   "outputs": [],
   "source": [
    "train_metadata"
   ]
  },
  {
   "cell_type": "code",
   "execution_count": null,
   "id": "7958d7ef",
   "metadata": {},
   "outputs": [],
   "source": [
    "import random\n",
    "random.seed(9)  # set a seed for reproducibility"
   ]
  },
  {
   "cell_type": "code",
   "execution_count": null,
   "id": "cf06413c",
   "metadata": {},
   "outputs": [],
   "source": [
    "# Sample 3 random floods for validation set\n",
    "flood_ids = train_metadata.flood_id.unique().tolist()\n",
    "val_flood_ids = random.sample(flood_ids, 3)\n",
    "print(val_flood_ids)\n",
    "\n",
    "val = train_metadata[train_metadata.flood_id.isin(val_flood_ids)]\n",
    "train = train_metadata[~train_metadata.flood_id.isin(val_flood_ids)]"
   ]
  },
  {
   "cell_type": "markdown",
   "id": "a791dc7d",
   "metadata": {},
   "source": [
    "['pxs', 'qxb', 'jja']"
   ]
  },
  {
   "cell_type": "raw",
   "id": "64158289",
   "metadata": {},
   "source": [
    "train.to_csv(\"/home/paul/Documents/drivendata/stac-overflow/data/processed/v1_12Sept/floodId_train.csv\")"
   ]
  },
  {
   "cell_type": "raw",
   "id": "01c6d141",
   "metadata": {},
   "source": [
    "val.to_csv(\"/home/paul/Documents/drivendata/stac-overflow/data/processed/v1_12Sept/floodId_val.csv\")"
   ]
  }
 ],
 "metadata": {
  "kernelspec": {
   "display_name": "Python 3 (ipykernel)",
   "language": "python",
   "name": "python3"
  },
  "language_info": {
   "codemirror_mode": {
    "name": "ipython",
    "version": 3
   },
   "file_extension": ".py",
   "mimetype": "text/x-python",
   "name": "python",
   "nbconvert_exporter": "python",
   "pygments_lexer": "ipython3",
   "version": "3.8.10"
  }
 },
 "nbformat": 4,
 "nbformat_minor": 5
}
